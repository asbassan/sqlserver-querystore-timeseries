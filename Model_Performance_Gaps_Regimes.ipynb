{
 "cells": [
  {
   "cell_type": "markdown",
   "id": "1d890af0",
   "metadata": {},
   "source": [
    "# Model Performance Analysis: Impact of Gaps and Regime Shifts\n",
    "\n",
    "This notebook computes model performance (RMSE) for Prophet, ARIMA, LSTM, and Random Forest using attached simulation data (`SimulatedQueryMetrics.csv`), and analyzes the impact of data gaps and regime shifts (plan regressions) as in Tables 1 and 2 above.\n",
    "\n",
    "- **Metrics analyzed:** CPU, LatencyMs, LogicalReads\n",
    "- **Queries:** Q1, Q2\n",
    "- **Models:** Prophet, ARIMA, LSTM, Random Forest\n",
    "- **Evaluations:**\n",
    "  - Aggregate RMSE per query/metric/model\n",
    "  - RMSE during normal, gap, and plan regression periods; % increase"
   ]
  },
  {
   "cell_type": "code",
   "execution_count": null,
   "id": "a196a61d",
   "metadata": {},
   "outputs": [],
   "source": [
    "# !pip install numpy pandas scikit-learn xgboost statsmodels prophet tensorflow"
   ]
  },
  {
   "cell_type": "code",
   "execution_count": 2,
   "id": "efe6da3f",
   "metadata": {},
   "outputs": [],
   "source": [
    "import numpy as np\n",
    "import pandas as pd\n",
    "import time\n",
    "from sklearn.ensemble import RandomForestRegressor\n",
    "from xgboost import XGBRegressor\n",
    "from statsmodels.tsa.arima.model import ARIMA\n",
    "from prophet import Prophet\n",
    "import tensorflow as tf\n",
    "from tensorflow.keras.models import Sequential\n",
    "from tensorflow.keras.layers import LSTM, Dense\n",
    "from sklearn.metrics import mean_squared_error\n",
    "import warnings\n",
    "warnings.filterwarnings('ignore')"
   ]
  },
  {
   "cell_type": "markdown",
   "id": "f49af32b",
   "metadata": {},
   "source": [
    "## Load Data"
   ]
  },
  {
   "cell_type": "code",
   "execution_count": 6,
   "id": "d14d51eb",
   "metadata": {},
   "outputs": [
    {
     "name": "stdout",
     "output_type": "stream",
     "text": [
      "Columns: ['SimDay', 'SimHour', 'MetricDate', 'QueryName', 'QueryVariant', 'CPU', 'LatencyMs', 'LogicalReads', 'PlanRegression']\n"
     ]
    }
   ],
   "source": [
    "csv_file = 'SimulatedQueryMetrics.csv'\n",
    "df = pd.read_csv(csv_file)\n",
    "df['MetricDate'] = pd.to_datetime(df['MetricDate'])\n",
    "df = df.sort_values(['QueryName', 'MetricDate', 'QueryVariant']).reset_index(drop=True)\n",
    "print('Columns:', df.columns.tolist())"
   ]
  },
  {
   "cell_type": "markdown",
   "id": "281af934",
   "metadata": {},
   "source": [
    "## Utility: Lag Feature Builder, Data Splitting"
   ]
  },
  {
   "cell_type": "code",
   "execution_count": 8,
   "id": "3bf0eb79",
   "metadata": {},
   "outputs": [],
   "source": [
    "def create_lag_features(df, lags=7, val_col='y'):\n",
    "    df = df.copy()\n",
    "    for lag in range(1, lags+1):\n",
    "        df[f'lag_{lag}'] = df[val_col].shift(lag)\n",
    "    df = df.dropna().reset_index(drop=True)\n",
    "    return df"
   ]
  },
  {
   "cell_type": "markdown",
   "id": "249915cd",
   "metadata": {},
   "source": [
    "## Model wrappers for timing and predictions"
   ]
  },
  {
   "cell_type": "code",
   "execution_count": 10,
   "id": "55f0b0d8",
   "metadata": {},
   "outputs": [],
   "source": [
    "def time_fit(model, X, y):\n",
    "    start = time.time()\n",
    "    model_fit = model.fit(X, y)\n",
    "    end = time.time()\n",
    "    train_time = end - start\n",
    "    return model_fit, train_time\n",
    "\n",
    "def time_predict(model, X):\n",
    "    start = time.time()\n",
    "    y_pred = model.predict(X)\n",
    "    end = time.time()\n",
    "    pred_time = end - start\n",
    "    return y_pred, pred_time"
   ]
  },
  {
   "cell_type": "markdown",
   "id": "4833285b",
   "metadata": {},
   "source": [
    "## Core Evaluation: RMSE per Query/Metric/Model (+Gaps/Plan Regression Analysis)"
   ]
  },
  {
   "cell_type": "code",
   "execution_count": 12,
   "id": "27f5fbb4",
   "metadata": {},
   "outputs": [
    {
     "name": "stderr",
     "output_type": "stream",
     "text": [
      "06:34:26 - cmdstanpy - INFO - Chain [1] start processing\n",
      "06:34:27 - cmdstanpy - INFO - Chain [1] done processing\n"
     ]
    },
    {
     "name": "stdout",
     "output_type": "stream",
     "text": [
      "\u001b[1m15/15\u001b[0m \u001b[32m━━━━━━━━━━━━━━━━━━━━\u001b[0m\u001b[37m\u001b[0m \u001b[1m1s\u001b[0m 29ms/step\n"
     ]
    },
    {
     "name": "stderr",
     "output_type": "stream",
     "text": [
      "06:34:44 - cmdstanpy - INFO - Chain [1] start processing\n",
      "06:34:45 - cmdstanpy - INFO - Chain [1] done processing\n"
     ]
    },
    {
     "name": "stdout",
     "output_type": "stream",
     "text": [
      "\u001b[1m15/15\u001b[0m \u001b[32m━━━━━━━━━━━━━━━━━━━━\u001b[0m\u001b[37m\u001b[0m \u001b[1m1s\u001b[0m 29ms/step\n"
     ]
    },
    {
     "name": "stderr",
     "output_type": "stream",
     "text": [
      "06:35:03 - cmdstanpy - INFO - Chain [1] start processing\n",
      "06:35:03 - cmdstanpy - INFO - Chain [1] done processing\n"
     ]
    },
    {
     "name": "stdout",
     "output_type": "stream",
     "text": [
      "\u001b[1m15/15\u001b[0m \u001b[32m━━━━━━━━━━━━━━━━━━━━\u001b[0m\u001b[37m\u001b[0m \u001b[1m1s\u001b[0m 22ms/step\n"
     ]
    },
    {
     "name": "stderr",
     "output_type": "stream",
     "text": [
      "06:35:21 - cmdstanpy - INFO - Chain [1] start processing\n",
      "06:35:21 - cmdstanpy - INFO - Chain [1] done processing\n"
     ]
    },
    {
     "name": "stdout",
     "output_type": "stream",
     "text": [
      "\u001b[1m15/15\u001b[0m \u001b[32m━━━━━━━━━━━━━━━━━━━━\u001b[0m\u001b[37m\u001b[0m \u001b[1m1s\u001b[0m 22ms/step\n"
     ]
    },
    {
     "name": "stderr",
     "output_type": "stream",
     "text": [
      "06:35:39 - cmdstanpy - INFO - Chain [1] start processing\n",
      "06:35:39 - cmdstanpy - INFO - Chain [1] done processing\n"
     ]
    },
    {
     "name": "stdout",
     "output_type": "stream",
     "text": [
      "\u001b[1m15/15\u001b[0m \u001b[32m━━━━━━━━━━━━━━━━━━━━\u001b[0m\u001b[37m\u001b[0m \u001b[1m1s\u001b[0m 29ms/step\n"
     ]
    },
    {
     "name": "stderr",
     "output_type": "stream",
     "text": [
      "06:36:01 - cmdstanpy - INFO - Chain [1] start processing\n",
      "06:36:02 - cmdstanpy - INFO - Chain [1] done processing\n"
     ]
    },
    {
     "name": "stdout",
     "output_type": "stream",
     "text": [
      "\u001b[1m15/15\u001b[0m \u001b[32m━━━━━━━━━━━━━━━━━━━━\u001b[0m\u001b[37m\u001b[0m \u001b[1m1s\u001b[0m 29ms/step\n"
     ]
    }
   ],
   "source": [
    "results = []\n",
    "models = ['Prophet', 'ARIMA', 'LSTM', 'Random Forest']\n",
    "metrics = ['CPU', 'LatencyMs', 'LogicalReads']\n",
    "queries = ['Q1', 'Q2']\n",
    "lags = 7\n",
    "np.random.seed(42)\n",
    "\n",
    "# For table 2: RMSE for normal, gap, plan regression\n",
    "gap_results = []\n",
    "\n",
    "for query in queries:\n",
    "    for metric in metrics:\n",
    "        # Use all variants (pool), or optionally do per-variant\n",
    "        dfx = df[df['QueryName']==query].copy().sort_values(['MetricDate', 'QueryVariant'])\n",
    "\n",
    "        # Mark gap, plan regression periods\n",
    "        dfx['is_gap'] = dfx[metric].isnull()\n",
    "        dfx['is_regression'] = dfx['PlanRegression']==1\n",
    "\n",
    "        # For RMSE calc, drop rows with missing target\n",
    "        dfx = dfx[['MetricDate', metric, 'QueryVariant','PlanRegression','is_gap','is_regression']].rename(columns={metric:'y','MetricDate':'ds'})\n",
    "        dfx = dfx.reset_index(drop=True)\n",
    "\n",
    "        # Impute missing values for modeling (forward/backward fill, then interpolate)\n",
    "        dfx['y'] = dfx['y'].fillna(method='ffill').fillna(method='bfill').interpolate()\n",
    "\n",
    "        # Build lags\n",
    "        dfx_lagged = create_lag_features(dfx, lags=lags, val_col='y')\n",
    "        split = int(len(dfx_lagged)*0.8)\n",
    "        train_df = dfx_lagged.iloc[:split]\n",
    "        test_df = dfx_lagged.iloc[split:]\n",
    "        X_train = train_df[[f'lag_{i}' for i in range(1, lags+1)]]\n",
    "        y_train = train_df['y']\n",
    "        X_test = test_df[[f'lag_{i}' for i in range(1, lags+1)]]\n",
    "        y_test = test_df['y']\n",
    "        # For Prophet, ARIMA: use ds/y\n",
    "        prophet_train = train_df[['ds','y']]\n",
    "        prophet_test = test_df[['ds','y']]\n",
    "        arima_train = train_df['y']\n",
    "        arima_test = test_df['y']\n",
    "\n",
    "        # --- Random Forest ---\n",
    "        rf = RandomForestRegressor(n_estimators=100, random_state=42)\n",
    "        rf_fit, _ = time_fit(rf, X_train, y_train)\n",
    "        rf_pred, _ = time_predict(rf_fit, X_test)\n",
    "\n",
    "        # --- XGBoost (for Table 2 only) ---\n",
    "        xgb = XGBRegressor(n_estimators=100, random_state=42, verbosity=0)\n",
    "        xgb_fit, _ = time_fit(xgb, X_train, y_train)\n",
    "        xgb_pred, _ = time_predict(xgb_fit, X_test)\n",
    "\n",
    "        # --- Prophet ---\n",
    "        m = Prophet()\n",
    "        m.fit(prophet_train)\n",
    "        forecast = m.predict(prophet_test[['ds']])\n",
    "        prophet_pred = forecast['yhat'].values\n",
    "\n",
    "        # --- ARIMA ---\n",
    "        arima_model = ARIMA(arima_train, order=(lags, 0, 0))\n",
    "        arima_fit = arima_model.fit()\n",
    "        arima_pred = arima_fit.forecast(steps=len(arima_test))\n",
    "\n",
    "        # --- LSTM ---\n",
    "        X_train_lstm = X_train.values.reshape((-1, lags, 1))\n",
    "        X_test_lstm = X_test.values.reshape((-1, lags, 1))\n",
    "        lstm_model = Sequential()\n",
    "        lstm_model.add(LSTM(32, input_shape=(lags, 1)))\n",
    "        lstm_model.add(Dense(1))\n",
    "        lstm_model.compile(optimizer='adam', loss='mse')\n",
    "        lstm_model.fit(X_train_lstm, y_train, epochs=10, batch_size=32, verbose=0)\n",
    "        lstm_pred = lstm_model.predict(X_test_lstm).flatten()\n",
    "\n",
    "        # Calc RMSE for each model (overall)\n",
    "        RMSE = lambda y, yhat: mean_squared_error(y, yhat, squared=False)\n",
    "\n",
    "        results.append({\n",
    "            'Query': query, 'Metric': metric, 'Model': 'Prophet', 'RMSE': RMSE(y_test, prophet_pred)\n",
    "        })\n",
    "        results.append({\n",
    "            'Query': query, 'Metric': metric, 'Model': 'ARIMA', 'RMSE': RMSE(y_test, arima_pred)\n",
    "        })\n",
    "        results.append({\n",
    "            'Query': query, 'Metric': metric, 'Model': 'LSTM', 'RMSE': RMSE(y_test, lstm_pred)\n",
    "        })\n",
    "        results.append({\n",
    "            'Query': query, 'Metric': metric, 'Model': 'Random Forest', 'RMSE': RMSE(y_test, rf_pred)\n",
    "        })\n",
    "\n",
    "        # For Table 2: RMSE during normal, gap, plan regression (for Prophet, ARIMA, LSTM, RF, XGB)\n",
    "        # Need to label test set points by gap/regime\n",
    "        test_idx = test_df.index\n",
    "        meta = dfx_lagged.loc[test_idx, ['is_gap', 'is_regression']]\n",
    "\n",
    "        for model_name, pred in zip(\n",
    "            ['Prophet','ARIMA','LSTM','Random Forest','XGBoost'],\n",
    "            [prophet_pred, arima_pred, lstm_pred, rf_pred, xgb_pred]\n",
    "        ):\n",
    "            meta = meta.copy()\n",
    "            meta['y_true'] = y_test.values\n",
    "            meta['y_pred'] = pred\n",
    "            # Normal (not gap, not regression)\n",
    "            norm_mask = (~meta['is_gap']) & (~meta['is_regression'])\n",
    "            gap_mask = meta['is_gap']\n",
    "            reg_mask = meta['is_regression']\n",
    "            rmse_norm = RMSE(meta.loc[norm_mask,'y_true'], meta.loc[norm_mask,'y_pred']) if norm_mask.sum() > 0 else np.nan\n",
    "            rmse_gap = RMSE(meta.loc[gap_mask,'y_true'], meta.loc[gap_mask,'y_pred']) if gap_mask.sum() > 0 else np.nan\n",
    "            rmse_reg = RMSE(meta.loc[reg_mask,'y_true'], meta.loc[reg_mask,'y_pred']) if reg_mask.sum() > 0 else np.nan\n",
    "            pct_gap = 100*(rmse_gap - rmse_norm)/rmse_norm if rmse_norm and not np.isnan(rmse_gap) else np.nan\n",
    "            pct_reg = 100*(rmse_reg - rmse_norm)/rmse_norm if rmse_norm and not np.isnan(rmse_reg) else np.nan\n",
    "            gap_results.append({\n",
    "                'Query': query, 'Metric': metric, 'Model': model_name,\n",
    "                'RMSE(Normal)': rmse_norm, 'RMSE(GAP)': rmse_gap, '% Increase (Gap)': pct_gap,\n",
    "                'RMSE(Plan Regression)': rmse_reg, '% Increase (Regression)': pct_reg\n",
    "            })"
   ]
  },
  {
   "cell_type": "markdown",
   "id": "c752dc86",
   "metadata": {},
   "source": [
    "### Format Table 1: RMSE by Query/Metric/Model"
   ]
  },
  {
   "cell_type": "code",
   "execution_count": 14,
   "id": "5ccc21b0",
   "metadata": {},
   "outputs": [
    {
     "data": {
      "text/html": [
       "<div>\n",
       "<style scoped>\n",
       "    .dataframe tbody tr th:only-of-type {\n",
       "        vertical-align: middle;\n",
       "    }\n",
       "\n",
       "    .dataframe tbody tr th {\n",
       "        vertical-align: top;\n",
       "    }\n",
       "\n",
       "    .dataframe thead tr th {\n",
       "        text-align: left;\n",
       "    }\n",
       "\n",
       "    .dataframe thead tr:last-of-type th {\n",
       "        text-align: right;\n",
       "    }\n",
       "</style>\n",
       "<table border=\"1\" class=\"dataframe\">\n",
       "  <thead>\n",
       "    <tr>\n",
       "      <th>Query</th>\n",
       "      <th colspan=\"3\" halign=\"left\">Q1</th>\n",
       "      <th colspan=\"3\" halign=\"left\">Q2</th>\n",
       "    </tr>\n",
       "    <tr>\n",
       "      <th>Metric</th>\n",
       "      <th>CPU</th>\n",
       "      <th>LatencyMs</th>\n",
       "      <th>LogicalReads</th>\n",
       "      <th>CPU</th>\n",
       "      <th>LatencyMs</th>\n",
       "      <th>LogicalReads</th>\n",
       "    </tr>\n",
       "    <tr>\n",
       "      <th>Model</th>\n",
       "      <th></th>\n",
       "      <th></th>\n",
       "      <th></th>\n",
       "      <th></th>\n",
       "      <th></th>\n",
       "      <th></th>\n",
       "    </tr>\n",
       "  </thead>\n",
       "  <tbody>\n",
       "    <tr>\n",
       "      <th>ARIMA</th>\n",
       "      <td>11.92</td>\n",
       "      <td>23.07</td>\n",
       "      <td>20.80</td>\n",
       "      <td>11.69</td>\n",
       "      <td>22.79</td>\n",
       "      <td>20.64</td>\n",
       "    </tr>\n",
       "    <tr>\n",
       "      <th>LSTM</th>\n",
       "      <td>30.08</td>\n",
       "      <td>174.42</td>\n",
       "      <td>142.21</td>\n",
       "      <td>38.59</td>\n",
       "      <td>180.36</td>\n",
       "      <td>154.64</td>\n",
       "    </tr>\n",
       "    <tr>\n",
       "      <th>Prophet</th>\n",
       "      <td>15.28</td>\n",
       "      <td>45.34</td>\n",
       "      <td>22.58</td>\n",
       "      <td>14.93</td>\n",
       "      <td>44.23</td>\n",
       "      <td>22.13</td>\n",
       "    </tr>\n",
       "    <tr>\n",
       "      <th>Random Forest</th>\n",
       "      <td>4.52</td>\n",
       "      <td>7.99</td>\n",
       "      <td>10.07</td>\n",
       "      <td>4.74</td>\n",
       "      <td>7.95</td>\n",
       "      <td>9.33</td>\n",
       "    </tr>\n",
       "  </tbody>\n",
       "</table>\n",
       "</div>"
      ],
      "text/plain": [
       "Query             Q1                            Q2                       \n",
       "Metric           CPU LatencyMs LogicalReads    CPU LatencyMs LogicalReads\n",
       "Model                                                                    \n",
       "ARIMA          11.92     23.07        20.80  11.69     22.79        20.64\n",
       "LSTM           30.08    174.42       142.21  38.59    180.36       154.64\n",
       "Prophet        15.28     45.34        22.58  14.93     44.23        22.13\n",
       "Random Forest   4.52      7.99        10.07   4.74      7.95         9.33"
      ]
     },
     "execution_count": 14,
     "metadata": {},
     "output_type": "execute_result"
    }
   ],
   "source": [
    "import pandas as pd\n",
    "perf_df = pd.DataFrame(results)\n",
    "# Pivot to match Table 1 format\n",
    "tbl1 = perf_df.pivot_table(index='Model', columns=['Query','Metric'], values='RMSE')\n",
    "# Optionally, display with 2 decimals\n",
    "tbl1 = tbl1.round(2)\n",
    "tbl1"
   ]
  },
  {
   "cell_type": "markdown",
   "id": "be341090",
   "metadata": {},
   "source": [
    "### Format Table 2: RMSE During Gaps and Plan Regression"
   ]
  },
  {
   "cell_type": "code",
   "execution_count": 16,
   "id": "df2777f1",
   "metadata": {},
   "outputs": [
    {
     "data": {
      "text/html": [
       "<div>\n",
       "<style scoped>\n",
       "    .dataframe tbody tr th:only-of-type {\n",
       "        vertical-align: middle;\n",
       "    }\n",
       "\n",
       "    .dataframe tbody tr th {\n",
       "        vertical-align: top;\n",
       "    }\n",
       "\n",
       "    .dataframe thead th {\n",
       "        text-align: right;\n",
       "    }\n",
       "</style>\n",
       "<table border=\"1\" class=\"dataframe\">\n",
       "  <thead>\n",
       "    <tr style=\"text-align: right;\">\n",
       "      <th></th>\n",
       "      <th>Query</th>\n",
       "      <th>Metric</th>\n",
       "      <th>Model</th>\n",
       "      <th>RMSE(Normal)</th>\n",
       "      <th>RMSE(GAP)</th>\n",
       "      <th>% Increase (Gap)</th>\n",
       "      <th>RMSE(Plan Regression)</th>\n",
       "      <th>% Increase (Regression)</th>\n",
       "    </tr>\n",
       "  </thead>\n",
       "  <tbody>\n",
       "    <tr>\n",
       "      <th>0</th>\n",
       "      <td>Q1</td>\n",
       "      <td>CPU</td>\n",
       "      <td>Prophet</td>\n",
       "      <td>15.804827</td>\n",
       "      <td>14.71616</td>\n",
       "      <td>-6.888191</td>\n",
       "      <td>14.501666</td>\n",
       "      <td>-8.245338</td>\n",
       "    </tr>\n",
       "    <tr>\n",
       "      <th>1</th>\n",
       "      <td>Q1</td>\n",
       "      <td>CPU</td>\n",
       "      <td>ARIMA</td>\n",
       "      <td>12.286066</td>\n",
       "      <td>12.70512</td>\n",
       "      <td>3.410805</td>\n",
       "      <td>11.408781</td>\n",
       "      <td>-7.140486</td>\n",
       "    </tr>\n",
       "  </tbody>\n",
       "</table>\n",
       "</div>"
      ],
      "text/plain": [
       "  Query Metric    Model  RMSE(Normal)  RMSE(GAP)  % Increase (Gap)  \\\n",
       "0    Q1    CPU  Prophet     15.804827   14.71616         -6.888191   \n",
       "1    Q1    CPU    ARIMA     12.286066   12.70512          3.410805   \n",
       "\n",
       "   RMSE(Plan Regression)  % Increase (Regression)  \n",
       "0              14.501666                -8.245338  \n",
       "1              11.408781                -7.140486  "
      ]
     },
     "execution_count": 16,
     "metadata": {},
     "output_type": "execute_result"
    }
   ],
   "source": [
    "gap_df = pd.DataFrame(gap_results)\n",
    "# Example: Show for Prophet and ARIMA, Q1, CPU\n",
    "gap_df[['Query','Metric','Model','RMSE(Normal)','RMSE(GAP)','% Increase (Gap)','RMSE(Plan Regression)','% Increase (Regression)']].query('Query==\"Q1\" and Metric==\"CPU\" and Model in [\"Prophet\",\"ARIMA\"]')"
   ]
  },
  {
   "cell_type": "markdown",
   "id": "c77a80d4",
   "metadata": {},
   "source": [
    "### Table 2: Aggregate Across All Metrics and Queries (Mean, % Increase)\n",
    "You may aggregate to report mean RMSE in each regime and mean % increase, as in Table 2."
   ]
  },
  {
   "cell_type": "code",
   "execution_count": 18,
   "id": "6a768af8",
   "metadata": {},
   "outputs": [
    {
     "data": {
      "text/html": [
       "<div>\n",
       "<style scoped>\n",
       "    .dataframe tbody tr th:only-of-type {\n",
       "        vertical-align: middle;\n",
       "    }\n",
       "\n",
       "    .dataframe tbody tr th {\n",
       "        vertical-align: top;\n",
       "    }\n",
       "\n",
       "    .dataframe thead th {\n",
       "        text-align: right;\n",
       "    }\n",
       "</style>\n",
       "<table border=\"1\" class=\"dataframe\">\n",
       "  <thead>\n",
       "    <tr style=\"text-align: right;\">\n",
       "      <th></th>\n",
       "      <th>RMSE(Normal)</th>\n",
       "      <th>RMSE(GAP)</th>\n",
       "      <th>% Increase (Gap)</th>\n",
       "      <th>RMSE(Plan Regression)</th>\n",
       "      <th>% Increase (Regression)</th>\n",
       "    </tr>\n",
       "    <tr>\n",
       "      <th>Model</th>\n",
       "      <th></th>\n",
       "      <th></th>\n",
       "      <th></th>\n",
       "      <th></th>\n",
       "      <th></th>\n",
       "    </tr>\n",
       "  </thead>\n",
       "  <tbody>\n",
       "    <tr>\n",
       "      <th>ARIMA</th>\n",
       "      <td>19.40</td>\n",
       "      <td>18.76</td>\n",
       "      <td>-3.15</td>\n",
       "      <td>17.19</td>\n",
       "      <td>-10.92</td>\n",
       "    </tr>\n",
       "    <tr>\n",
       "      <th>LSTM</th>\n",
       "      <td>120.21</td>\n",
       "      <td>120.16</td>\n",
       "      <td>-0.42</td>\n",
       "      <td>119.29</td>\n",
       "      <td>-1.11</td>\n",
       "    </tr>\n",
       "    <tr>\n",
       "      <th>Prophet</th>\n",
       "      <td>28.32</td>\n",
       "      <td>27.34</td>\n",
       "      <td>-3.92</td>\n",
       "      <td>25.65</td>\n",
       "      <td>-11.21</td>\n",
       "    </tr>\n",
       "    <tr>\n",
       "      <th>Random Forest</th>\n",
       "      <td>6.99</td>\n",
       "      <td>17.94</td>\n",
       "      <td>155.68</td>\n",
       "      <td>4.77</td>\n",
       "      <td>-28.49</td>\n",
       "    </tr>\n",
       "    <tr>\n",
       "      <th>XGBoost</th>\n",
       "      <td>7.61</td>\n",
       "      <td>18.19</td>\n",
       "      <td>138.30</td>\n",
       "      <td>4.79</td>\n",
       "      <td>-33.74</td>\n",
       "    </tr>\n",
       "  </tbody>\n",
       "</table>\n",
       "</div>"
      ],
      "text/plain": [
       "               RMSE(Normal)  RMSE(GAP)  % Increase (Gap)  \\\n",
       "Model                                                      \n",
       "ARIMA                 19.40      18.76             -3.15   \n",
       "LSTM                 120.21     120.16             -0.42   \n",
       "Prophet               28.32      27.34             -3.92   \n",
       "Random Forest          6.99      17.94            155.68   \n",
       "XGBoost                7.61      18.19            138.30   \n",
       "\n",
       "               RMSE(Plan Regression)  % Increase (Regression)  \n",
       "Model                                                          \n",
       "ARIMA                          17.19                   -10.92  \n",
       "LSTM                          119.29                    -1.11  \n",
       "Prophet                        25.65                   -11.21  \n",
       "Random Forest                   4.77                   -28.49  \n",
       "XGBoost                         4.79                   -33.74  "
      ]
     },
     "execution_count": 18,
     "metadata": {},
     "output_type": "execute_result"
    }
   ],
   "source": [
    "# Aggregate mean RMSE and % increase per model\n",
    "summary2 = gap_df.groupby('Model')[['RMSE(Normal)','RMSE(GAP)','% Increase (Gap)','RMSE(Plan Regression)','% Increase (Regression)']].mean().round(2)\n",
    "summary2"
   ]
  },
  {
   "cell_type": "markdown",
   "id": "e247bd0d",
   "metadata": {},
   "source": [
    "## Discussion\n",
    "- Table 1 shows RMSE per query, metric, and model.\n",
    "- Table 2 summarizes the effect of data gaps and plan regressions on model RMSE, matching the structure of the provided tables.\n",
    "- XGBoost can be included in Table 2 if desired.\n",
    "- All results use the same simulation data as previous benchmarking."
   ]
  }
 ],
 "metadata": {
  "kernelspec": {
   "display_name": "Python 3 (ipykernel)",
   "language": "python",
   "name": "python3"
  },
  "language_info": {
   "codemirror_mode": {
    "name": "ipython",
    "version": 3
   },
   "file_extension": ".py",
   "mimetype": "text/x-python",
   "name": "python",
   "nbconvert_exporter": "python",
   "pygments_lexer": "ipython3",
   "version": "3.12.3"
  }
 },
 "nbformat": 4,
 "nbformat_minor": 5
}
