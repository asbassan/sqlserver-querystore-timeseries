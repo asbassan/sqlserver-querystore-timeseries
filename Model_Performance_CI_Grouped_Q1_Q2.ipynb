{
 "cells": [
  {
   "cell_type": "markdown",
   "id": "55bbf5a3",
   "metadata": {},
   "source": [
    "# Model Performance with 95% Confidence Interval (Grouped by Q1 / Q2)\n",
    "\n",
    "This notebook computes model performance (RMSE ± 95% CI) for Prophet, ARIMA, LSTM, and Random Forest, grouped by queries Q1 and Q2, for CPU, LatencyMs, and LogicalReads. The results are formatted for easy inclusion in a table like Table 1 in your paper."
   ]
  },
  {
   "cell_type": "code",
   "execution_count": null,
   "id": "ea40569b",
   "metadata": {},
   "outputs": [],
   "source": [
    "# !pip install numpy pandas scikit-learn xgboost statsmodels prophet tensorflow"
   ]
  },
  {
   "cell_type": "code",
   "execution_count": 1,
   "id": "5fca86e8",
   "metadata": {},
   "outputs": [],
   "source": [
    "import numpy as np\n",
    "import pandas as pd\n",
    "import time\n",
    "from sklearn.ensemble import RandomForestRegressor\n",
    "from statsmodels.tsa.arima.model import ARIMA\n",
    "from prophet import Prophet\n",
    "import tensorflow as tf\n",
    "from tensorflow.keras.models import Sequential\n",
    "from tensorflow.keras.layers import LSTM, Dense\n",
    "from sklearn.metrics import mean_squared_error\n",
    "import warnings\n",
    "warnings.filterwarnings('ignore')"
   ]
  },
  {
   "cell_type": "markdown",
   "id": "f5308c3e",
   "metadata": {},
   "source": [
    "## Load Data"
   ]
  },
  {
   "cell_type": "code",
   "execution_count": 3,
   "id": "68077a55",
   "metadata": {},
   "outputs": [
    {
     "name": "stdout",
     "output_type": "stream",
     "text": [
      "Columns: ['SimDay', 'SimHour', 'MetricDate', 'QueryName', 'QueryVariant', 'CPU', 'LatencyMs', 'LogicalReads', 'PlanRegression']\n"
     ]
    }
   ],
   "source": [
    "csv_file = 'SimulatedQueryMetrics.csv'\n",
    "df = pd.read_csv(csv_file)\n",
    "df['MetricDate'] = pd.to_datetime(df['MetricDate'])\n",
    "df = df.sort_values(['QueryName', 'MetricDate', 'QueryVariant']).reset_index(drop=True)\n",
    "print('Columns:', df.columns.tolist())"
   ]
  },
  {
   "cell_type": "markdown",
   "id": "f298a488",
   "metadata": {},
   "source": [
    "## Utility: Lag Feature Builder, Data Splitting"
   ]
  },
  {
   "cell_type": "code",
   "execution_count": 5,
   "id": "744fa57e",
   "metadata": {},
   "outputs": [],
   "source": [
    "def create_lag_features(df, lags=7, val_col='y'):\n",
    "    df = df.copy()\n",
    "    for lag in range(1, lags+1):\n",
    "        df[f'lag_{lag}'] = df[val_col].shift(lag)\n",
    "    df = df.dropna().reset_index(drop=True)\n",
    "    return df"
   ]
  },
  {
   "cell_type": "markdown",
   "id": "477a3134",
   "metadata": {},
   "source": [
    "## Cross-Validation Function for 95% CI (Expanding Window Split)\n",
    "We use 5 splits for each Query/Metric/Model, as in the example."
   ]
  },
  {
   "cell_type": "code",
   "execution_count": 7,
   "id": "273327f1",
   "metadata": {},
   "outputs": [],
   "source": [
    "def expanding_window_cv(df, n_splits=5, lags=7):\n",
    "    indices = np.array_split(np.arange(len(df)), n_splits)\n",
    "    splits = []\n",
    "    for i in range(1, n_splits):\n",
    "        train_idx = np.concatenate(indices[:i])\n",
    "        test_idx = indices[i]\n",
    "        splits.append((train_idx, test_idx))\n",
    "    return splits"
   ]
  },
  {
   "cell_type": "markdown",
   "id": "6ccf37c9",
   "metadata": {},
   "source": [
    "## Main: Compute RMSE ± 95% CI for Each Model/Query/Metric"
   ]
  },
  {
   "cell_type": "code",
   "execution_count": 15,
   "id": "71881aef",
   "metadata": {},
   "outputs": [
    {
     "name": "stderr",
     "output_type": "stream",
     "text": [
      "06:59:46 - cmdstanpy - INFO - Chain [1] start processing\n",
      "06:59:46 - cmdstanpy - INFO - Chain [1] done processing\n"
     ]
    },
    {
     "name": "stdout",
     "output_type": "stream",
     "text": [
      "\u001b[1m15/15\u001b[0m \u001b[32m━━━━━━━━━━━━━━━━━━━━\u001b[0m\u001b[37m\u001b[0m \u001b[1m1s\u001b[0m 27ms/step\n"
     ]
    },
    {
     "name": "stderr",
     "output_type": "stream",
     "text": [
      "06:59:56 - cmdstanpy - INFO - Chain [1] start processing\n",
      "06:59:56 - cmdstanpy - INFO - Chain [1] done processing\n"
     ]
    },
    {
     "name": "stdout",
     "output_type": "stream",
     "text": [
      "\u001b[1m15/15\u001b[0m \u001b[32m━━━━━━━━━━━━━━━━━━━━\u001b[0m\u001b[37m\u001b[0m \u001b[1m1s\u001b[0m 21ms/step\n"
     ]
    },
    {
     "name": "stderr",
     "output_type": "stream",
     "text": [
      "07:00:09 - cmdstanpy - INFO - Chain [1] start processing\n",
      "07:00:09 - cmdstanpy - INFO - Chain [1] done processing\n"
     ]
    },
    {
     "name": "stdout",
     "output_type": "stream",
     "text": [
      "\u001b[1m15/15\u001b[0m \u001b[32m━━━━━━━━━━━━━━━━━━━━\u001b[0m\u001b[37m\u001b[0m \u001b[1m2s\u001b[0m 114ms/step\n"
     ]
    },
    {
     "name": "stderr",
     "output_type": "stream",
     "text": [
      "07:00:26 - cmdstanpy - INFO - Chain [1] start processing\n",
      "07:00:26 - cmdstanpy - INFO - Chain [1] done processing\n"
     ]
    },
    {
     "name": "stdout",
     "output_type": "stream",
     "text": [
      "\u001b[1m15/15\u001b[0m \u001b[32m━━━━━━━━━━━━━━━━━━━━\u001b[0m\u001b[37m\u001b[0m \u001b[1m1s\u001b[0m 26ms/step\n"
     ]
    },
    {
     "name": "stderr",
     "output_type": "stream",
     "text": [
      "07:00:43 - cmdstanpy - INFO - Chain [1] start processing\n",
      "07:00:43 - cmdstanpy - INFO - Chain [1] done processing\n"
     ]
    },
    {
     "name": "stdout",
     "output_type": "stream",
     "text": [
      "\u001b[1m15/15\u001b[0m \u001b[32m━━━━━━━━━━━━━━━━━━━━\u001b[0m\u001b[37m\u001b[0m \u001b[1m1s\u001b[0m 26ms/step\n"
     ]
    },
    {
     "name": "stderr",
     "output_type": "stream",
     "text": [
      "07:00:54 - cmdstanpy - INFO - Chain [1] start processing\n",
      "07:00:54 - cmdstanpy - INFO - Chain [1] done processing\n"
     ]
    },
    {
     "name": "stdout",
     "output_type": "stream",
     "text": [
      "\u001b[1m15/15\u001b[0m \u001b[32m━━━━━━━━━━━━━━━━━━━━\u001b[0m\u001b[37m\u001b[0m \u001b[1m1s\u001b[0m 26ms/step\n"
     ]
    },
    {
     "name": "stderr",
     "output_type": "stream",
     "text": [
      "07:01:09 - cmdstanpy - INFO - Chain [1] start processing\n",
      "07:01:09 - cmdstanpy - INFO - Chain [1] done processing\n"
     ]
    },
    {
     "name": "stdout",
     "output_type": "stream",
     "text": [
      "\u001b[1m15/15\u001b[0m \u001b[32m━━━━━━━━━━━━━━━━━━━━\u001b[0m\u001b[37m\u001b[0m \u001b[1m1s\u001b[0m 28ms/step\n"
     ]
    },
    {
     "name": "stderr",
     "output_type": "stream",
     "text": [
      "07:01:27 - cmdstanpy - INFO - Chain [1] start processing\n",
      "07:01:28 - cmdstanpy - INFO - Chain [1] done processing\n"
     ]
    },
    {
     "name": "stdout",
     "output_type": "stream",
     "text": [
      "\u001b[1m15/15\u001b[0m \u001b[32m━━━━━━━━━━━━━━━━━━━━\u001b[0m\u001b[37m\u001b[0m \u001b[1m1s\u001b[0m 35ms/step\n"
     ]
    },
    {
     "name": "stderr",
     "output_type": "stream",
     "text": [
      "07:01:46 - cmdstanpy - INFO - Chain [1] start processing\n",
      "07:01:46 - cmdstanpy - INFO - Chain [1] done processing\n"
     ]
    },
    {
     "name": "stdout",
     "output_type": "stream",
     "text": [
      "\u001b[1m15/15\u001b[0m \u001b[32m━━━━━━━━━━━━━━━━━━━━\u001b[0m\u001b[37m\u001b[0m \u001b[1m1s\u001b[0m 31ms/step\n"
     ]
    },
    {
     "name": "stderr",
     "output_type": "stream",
     "text": [
      "07:01:59 - cmdstanpy - INFO - Chain [1] start processing\n",
      "07:01:59 - cmdstanpy - INFO - Chain [1] done processing\n"
     ]
    },
    {
     "name": "stdout",
     "output_type": "stream",
     "text": [
      "\u001b[1m15/15\u001b[0m \u001b[32m━━━━━━━━━━━━━━━━━━━━\u001b[0m\u001b[37m\u001b[0m \u001b[1m1s\u001b[0m 28ms/step\n"
     ]
    },
    {
     "name": "stderr",
     "output_type": "stream",
     "text": [
      "07:02:13 - cmdstanpy - INFO - Chain [1] start processing\n",
      "07:02:13 - cmdstanpy - INFO - Chain [1] done processing\n"
     ]
    },
    {
     "name": "stdout",
     "output_type": "stream",
     "text": [
      "\u001b[1m15/15\u001b[0m \u001b[32m━━━━━━━━━━━━━━━━━━━━\u001b[0m\u001b[37m\u001b[0m \u001b[1m1s\u001b[0m 28ms/step\n"
     ]
    },
    {
     "name": "stderr",
     "output_type": "stream",
     "text": [
      "07:02:33 - cmdstanpy - INFO - Chain [1] start processing\n",
      "07:02:33 - cmdstanpy - INFO - Chain [1] done processing\n"
     ]
    },
    {
     "name": "stdout",
     "output_type": "stream",
     "text": [
      "\u001b[1m15/15\u001b[0m \u001b[32m━━━━━━━━━━━━━━━━━━━━\u001b[0m\u001b[37m\u001b[0m \u001b[1m1s\u001b[0m 23ms/step\n"
     ]
    },
    {
     "name": "stderr",
     "output_type": "stream",
     "text": [
      "07:02:56 - cmdstanpy - INFO - Chain [1] start processing\n",
      "07:02:56 - cmdstanpy - INFO - Chain [1] done processing\n"
     ]
    },
    {
     "name": "stdout",
     "output_type": "stream",
     "text": [
      "\u001b[1m15/15\u001b[0m \u001b[32m━━━━━━━━━━━━━━━━━━━━\u001b[0m\u001b[37m\u001b[0m \u001b[1m1s\u001b[0m 31ms/step\n"
     ]
    },
    {
     "name": "stderr",
     "output_type": "stream",
     "text": [
      "07:03:07 - cmdstanpy - INFO - Chain [1] start processing\n",
      "07:03:08 - cmdstanpy - INFO - Chain [1] done processing\n"
     ]
    },
    {
     "name": "stdout",
     "output_type": "stream",
     "text": [
      "\u001b[1m15/15\u001b[0m \u001b[32m━━━━━━━━━━━━━━━━━━━━\u001b[0m\u001b[37m\u001b[0m \u001b[1m1s\u001b[0m 25ms/step\n"
     ]
    },
    {
     "name": "stderr",
     "output_type": "stream",
     "text": [
      "07:03:23 - cmdstanpy - INFO - Chain [1] start processing\n",
      "07:03:23 - cmdstanpy - INFO - Chain [1] done processing\n"
     ]
    },
    {
     "name": "stdout",
     "output_type": "stream",
     "text": [
      "\u001b[1m15/15\u001b[0m \u001b[32m━━━━━━━━━━━━━━━━━━━━\u001b[0m\u001b[37m\u001b[0m \u001b[1m1s\u001b[0m 34ms/step\n"
     ]
    },
    {
     "name": "stderr",
     "output_type": "stream",
     "text": [
      "07:03:40 - cmdstanpy - INFO - Chain [1] start processing\n",
      "07:03:41 - cmdstanpy - INFO - Chain [1] done processing\n"
     ]
    },
    {
     "name": "stdout",
     "output_type": "stream",
     "text": [
      "\u001b[1m15/15\u001b[0m \u001b[32m━━━━━━━━━━━━━━━━━━━━\u001b[0m\u001b[37m\u001b[0m \u001b[1m1s\u001b[0m 27ms/step\n"
     ]
    },
    {
     "name": "stderr",
     "output_type": "stream",
     "text": [
      "07:04:00 - cmdstanpy - INFO - Chain [1] start processing\n",
      "07:04:00 - cmdstanpy - INFO - Chain [1] done processing\n"
     ]
    },
    {
     "name": "stdout",
     "output_type": "stream",
     "text": [
      "\u001b[1m15/15\u001b[0m \u001b[32m━━━━━━━━━━━━━━━━━━━━\u001b[0m\u001b[37m\u001b[0m \u001b[1m1s\u001b[0m 23ms/step\n"
     ]
    },
    {
     "name": "stderr",
     "output_type": "stream",
     "text": [
      "07:04:11 - cmdstanpy - INFO - Chain [1] start processing\n",
      "07:04:11 - cmdstanpy - INFO - Chain [1] done processing\n"
     ]
    },
    {
     "name": "stdout",
     "output_type": "stream",
     "text": [
      "\u001b[1m15/15\u001b[0m \u001b[32m━━━━━━━━━━━━━━━━━━━━\u001b[0m\u001b[37m\u001b[0m \u001b[1m1s\u001b[0m 27ms/step\n"
     ]
    },
    {
     "name": "stderr",
     "output_type": "stream",
     "text": [
      "07:04:22 - cmdstanpy - INFO - Chain [1] start processing\n",
      "07:04:22 - cmdstanpy - INFO - Chain [1] done processing\n"
     ]
    },
    {
     "name": "stdout",
     "output_type": "stream",
     "text": [
      "\u001b[1m15/15\u001b[0m \u001b[32m━━━━━━━━━━━━━━━━━━━━\u001b[0m\u001b[37m\u001b[0m \u001b[1m1s\u001b[0m 29ms/step\n"
     ]
    },
    {
     "name": "stderr",
     "output_type": "stream",
     "text": [
      "07:04:42 - cmdstanpy - INFO - Chain [1] start processing\n",
      "07:04:42 - cmdstanpy - INFO - Chain [1] done processing\n"
     ]
    },
    {
     "name": "stdout",
     "output_type": "stream",
     "text": [
      "\u001b[1m15/15\u001b[0m \u001b[32m━━━━━━━━━━━━━━━━━━━━\u001b[0m\u001b[37m\u001b[0m \u001b[1m1s\u001b[0m 21ms/step\n"
     ]
    },
    {
     "name": "stderr",
     "output_type": "stream",
     "text": [
      "07:05:06 - cmdstanpy - INFO - Chain [1] start processing\n",
      "07:05:06 - cmdstanpy - INFO - Chain [1] done processing\n"
     ]
    },
    {
     "name": "stdout",
     "output_type": "stream",
     "text": [
      "\u001b[1m15/15\u001b[0m \u001b[32m━━━━━━━━━━━━━━━━━━━━\u001b[0m\u001b[37m\u001b[0m \u001b[1m1s\u001b[0m 27ms/step\n"
     ]
    },
    {
     "name": "stderr",
     "output_type": "stream",
     "text": [
      "07:05:16 - cmdstanpy - INFO - Chain [1] start processing\n",
      "07:05:16 - cmdstanpy - INFO - Chain [1] done processing\n"
     ]
    },
    {
     "name": "stdout",
     "output_type": "stream",
     "text": [
      "\u001b[1m15/15\u001b[0m \u001b[32m━━━━━━━━━━━━━━━━━━━━\u001b[0m\u001b[37m\u001b[0m \u001b[1m1s\u001b[0m 25ms/step\n"
     ]
    },
    {
     "name": "stderr",
     "output_type": "stream",
     "text": [
      "07:05:28 - cmdstanpy - INFO - Chain [1] start processing\n",
      "07:05:28 - cmdstanpy - INFO - Chain [1] done processing\n"
     ]
    },
    {
     "name": "stdout",
     "output_type": "stream",
     "text": [
      "\u001b[1m15/15\u001b[0m \u001b[32m━━━━━━━━━━━━━━━━━━━━\u001b[0m\u001b[37m\u001b[0m \u001b[1m1s\u001b[0m 27ms/step\n"
     ]
    },
    {
     "name": "stderr",
     "output_type": "stream",
     "text": [
      "07:05:42 - cmdstanpy - INFO - Chain [1] start processing\n",
      "07:05:42 - cmdstanpy - INFO - Chain [1] done processing\n"
     ]
    },
    {
     "name": "stdout",
     "output_type": "stream",
     "text": [
      "\u001b[1m15/15\u001b[0m \u001b[32m━━━━━━━━━━━━━━━━━━━━\u001b[0m\u001b[37m\u001b[0m \u001b[1m1s\u001b[0m 23ms/step\n"
     ]
    }
   ],
   "source": [
    "from xgboost import XGBRegressor\n",
    "models = ['Prophet', 'ARIMA', 'LSTM', 'Random Forest', 'XGBoost']\n",
    "metrics = ['CPU', 'LatencyMs', 'LogicalReads']\n",
    "queries = ['Q1', 'Q2']\n",
    "lags = 7\n",
    "n_splits = 5\n",
    "seed = 42\n",
    "np.random.seed(seed)\n",
    "tf.random.set_seed(seed)\n",
    "\n",
    "def get_ci95(arr):\n",
    "    arr = np.array(arr)\n",
    "    mean = arr.mean()\n",
    "    se = arr.std(ddof=1) / np.sqrt(len(arr))\n",
    "    ci = 1.96 * se\n",
    "    return mean, ci\n",
    "\n",
    "results = []\n",
    "for query in queries:\n",
    "    for metric in metrics:\n",
    "        dfx = df[df['QueryName']==query].copy().sort_values(['MetricDate','QueryVariant'])\n",
    "        dfx = dfx[['MetricDate', metric, 'QueryVariant','PlanRegression']].rename(columns={metric:'y','MetricDate':'ds'})\n",
    "        dfx['y'] = dfx['y'].fillna(method='ffill').fillna(method='bfill').interpolate()\n",
    "        dfx = create_lag_features(dfx, lags=lags, val_col='y')\n",
    "        splits = expanding_window_cv(dfx, n_splits=n_splits, lags=lags)\n",
    "        model_rmses = {m:[] for m in models}\n",
    "        for train_idx, test_idx in splits:\n",
    "            train_df = dfx.iloc[train_idx]\n",
    "            test_df = dfx.iloc[test_idx]\n",
    "            X_train = train_df[[f'lag_{i}' for i in range(1, lags+1)]]\n",
    "            y_train = train_df['y']\n",
    "            X_test = test_df[[f'lag_{i}' for i in range(1, lags+1)]]\n",
    "            y_test = test_df['y']\n",
    "\n",
    "            # Prophet\n",
    "            prophet_train = train_df[['ds','y']]\n",
    "            prophet_test = test_df[['ds','y']]\n",
    "            pm = Prophet()\n",
    "            pm.fit(prophet_train)\n",
    "            pf = pm.predict(prophet_test[['ds']])\n",
    "            prophet_pred = pf['yhat'].values\n",
    "            model_rmses['Prophet'].append(mean_squared_error(y_test, prophet_pred, squared=False))\n",
    "\n",
    "            # ARIMA\n",
    "            arima_train = train_df['y']\n",
    "            arima_test = test_df['y']\n",
    "            am = ARIMA(arima_train, order=(lags,0,0)).fit()\n",
    "            arima_pred = am.forecast(steps=len(arima_test))\n",
    "            model_rmses['ARIMA'].append(mean_squared_error(arima_test, arima_pred, squared=False))\n",
    "\n",
    "            # LSTM\n",
    "            X_train_lstm = X_train.values.reshape((-1, lags, 1))\n",
    "            X_test_lstm = X_test.values.reshape((-1, lags, 1))\n",
    "            lstm_model = Sequential()\n",
    "            lstm_model.add(LSTM(32, input_shape=(lags, 1)))\n",
    "            lstm_model.add(Dense(1))\n",
    "            lstm_model.compile(optimizer='adam', loss='mse')\n",
    "            lstm_model.fit(X_train_lstm, y_train, epochs=10, batch_size=32, verbose=0)\n",
    "            lstm_pred = lstm_model.predict(X_test_lstm).flatten()\n",
    "            model_rmses['LSTM'].append(mean_squared_error(y_test, lstm_pred, squared=False))\n",
    "\n",
    "            # Random Forest\n",
    "            rf = RandomForestRegressor(n_estimators=100, random_state=seed)\n",
    "            rf.fit(X_train, y_train)\n",
    "            rf_pred = rf.predict(X_test)\n",
    "            model_rmses['Random Forest'].append(mean_squared_error(y_test, rf_pred, squared=False))\n",
    "\n",
    "            # xgboost\n",
    "            xgb = XGBRegressor(n_estimators=100, random_state=seed, verbosity=0)\n",
    "            xgb.fit(X_train, y_train)\n",
    "            xgb_pred = xgb.predict(X_test)\n",
    "            model_rmses['XGBoost'].append(mean_squared_error(y_test, rf_pred, squared=False))\n",
    "\n",
    "        # Summarize with 95% CI\n",
    "        for m in models:\n",
    "            mean, ci = get_ci95(model_rmses[m])\n",
    "            results.append({\n",
    "                'Query': query,\n",
    "                'Metric': metric,\n",
    "                'Model': m,\n",
    "                'RMSE (mean)': mean,\n",
    "                'CI95': ci,\n",
    "                'Formatted': f\"{mean:.2f} ± {ci:.2f}\"\n",
    "            })"
   ]
  },
  {
   "cell_type": "markdown",
   "id": "31660080",
   "metadata": {},
   "source": [
    "## Format Results Table: Grouped by Q1 / Q2"
   ]
  },
  {
   "cell_type": "code",
   "execution_count": 17,
   "id": "387a6c42",
   "metadata": {},
   "outputs": [
    {
     "data": {
      "text/html": [
       "<div>\n",
       "<style scoped>\n",
       "    .dataframe tbody tr th:only-of-type {\n",
       "        vertical-align: middle;\n",
       "    }\n",
       "\n",
       "    .dataframe tbody tr th {\n",
       "        vertical-align: top;\n",
       "    }\n",
       "\n",
       "    .dataframe thead tr th {\n",
       "        text-align: left;\n",
       "    }\n",
       "\n",
       "    .dataframe thead tr:last-of-type th {\n",
       "        text-align: right;\n",
       "    }\n",
       "</style>\n",
       "<table border=\"1\" class=\"dataframe\">\n",
       "  <thead>\n",
       "    <tr>\n",
       "      <th>Query</th>\n",
       "      <th colspan=\"3\" halign=\"left\">Q1</th>\n",
       "      <th colspan=\"3\" halign=\"left\">Q2</th>\n",
       "    </tr>\n",
       "    <tr>\n",
       "      <th>Metric</th>\n",
       "      <th>CPU</th>\n",
       "      <th>LatencyMs</th>\n",
       "      <th>LogicalReads</th>\n",
       "      <th>CPU</th>\n",
       "      <th>LatencyMs</th>\n",
       "      <th>LogicalReads</th>\n",
       "    </tr>\n",
       "    <tr>\n",
       "      <th>Model</th>\n",
       "      <th></th>\n",
       "      <th></th>\n",
       "      <th></th>\n",
       "      <th></th>\n",
       "      <th></th>\n",
       "      <th></th>\n",
       "    </tr>\n",
       "  </thead>\n",
       "  <tbody>\n",
       "    <tr>\n",
       "      <th>ARIMA</th>\n",
       "      <td>17.54 ± 4.45</td>\n",
       "      <td>40.06 ± 12.68</td>\n",
       "      <td>26.09 ± 4.16</td>\n",
       "      <td>17.34 ± 4.52</td>\n",
       "      <td>39.27 ± 12.33</td>\n",
       "      <td>26.11 ± 4.31</td>\n",
       "    </tr>\n",
       "    <tr>\n",
       "      <th>LSTM</th>\n",
       "      <td>45.55 ± 9.76</td>\n",
       "      <td>200.44 ± 19.22</td>\n",
       "      <td>158.63 ± 9.54</td>\n",
       "      <td>49.88 ± 10.58</td>\n",
       "      <td>208.28 ± 15.72</td>\n",
       "      <td>166.27 ± 7.47</td>\n",
       "    </tr>\n",
       "    <tr>\n",
       "      <th>Prophet</th>\n",
       "      <td>29.49 ± 11.34</td>\n",
       "      <td>59.70 ± 16.17</td>\n",
       "      <td>38.50 ± 13.17</td>\n",
       "      <td>28.25 ± 9.86</td>\n",
       "      <td>57.11 ± 14.71</td>\n",
       "      <td>39.82 ± 13.88</td>\n",
       "    </tr>\n",
       "    <tr>\n",
       "      <th>Random Forest</th>\n",
       "      <td>8.97 ± 3.72</td>\n",
       "      <td>21.46 ± 10.51</td>\n",
       "      <td>14.92 ± 3.98</td>\n",
       "      <td>8.13 ± 2.59</td>\n",
       "      <td>20.97 ± 10.18</td>\n",
       "      <td>13.31 ± 3.21</td>\n",
       "    </tr>\n",
       "    <tr>\n",
       "      <th>XGBoost</th>\n",
       "      <td>8.97 ± 3.72</td>\n",
       "      <td>21.46 ± 10.51</td>\n",
       "      <td>14.92 ± 3.98</td>\n",
       "      <td>8.13 ± 2.59</td>\n",
       "      <td>20.97 ± 10.18</td>\n",
       "      <td>13.31 ± 3.21</td>\n",
       "    </tr>\n",
       "  </tbody>\n",
       "</table>\n",
       "</div>"
      ],
      "text/plain": [
       "Query                     Q1                                            Q2  \\\n",
       "Metric                   CPU       LatencyMs   LogicalReads            CPU   \n",
       "Model                                                                        \n",
       "ARIMA           17.54 ± 4.45   40.06 ± 12.68   26.09 ± 4.16   17.34 ± 4.52   \n",
       "LSTM            45.55 ± 9.76  200.44 ± 19.22  158.63 ± 9.54  49.88 ± 10.58   \n",
       "Prophet        29.49 ± 11.34   59.70 ± 16.17  38.50 ± 13.17   28.25 ± 9.86   \n",
       "Random Forest    8.97 ± 3.72   21.46 ± 10.51   14.92 ± 3.98    8.13 ± 2.59   \n",
       "XGBoost          8.97 ± 3.72   21.46 ± 10.51   14.92 ± 3.98    8.13 ± 2.59   \n",
       "\n",
       "Query                                         \n",
       "Metric              LatencyMs   LogicalReads  \n",
       "Model                                         \n",
       "ARIMA           39.27 ± 12.33   26.11 ± 4.31  \n",
       "LSTM           208.28 ± 15.72  166.27 ± 7.47  \n",
       "Prophet         57.11 ± 14.71  39.82 ± 13.88  \n",
       "Random Forest   20.97 ± 10.18   13.31 ± 3.21  \n",
       "XGBoost         20.97 ± 10.18   13.31 ± 3.21  "
      ]
     },
     "metadata": {},
     "output_type": "display_data"
    }
   ],
   "source": [
    "perf_df = pd.DataFrame(results)\n",
    "# Pivot to match Table 1: Models as index, (Query, Metric) as columns, showing mean ± CI\n",
    "tbl1 = perf_df.pivot(index='Model', columns=['Query','Metric'], values='Formatted')\n",
    "tbl1 = tbl1[['Q1','Q2']] # ensure correct query order\n",
    "display(tbl1)\n",
    "tbl1.to_csv('model_performance_Q1_Q2_CI.csv')"
   ]
  },
  {
   "cell_type": "markdown",
   "id": "53240978",
   "metadata": {},
   "source": [
    "## (Optional) Show Table as LaTeX"
   ]
  },
  {
   "cell_type": "code",
   "execution_count": 19,
   "id": "5e3ce901",
   "metadata": {},
   "outputs": [
    {
     "name": "stdout",
     "output_type": "stream",
     "text": [
      "\\begin{tabular}{lllllll}\n",
      "\\hline\n",
      " Model         & ('Q1', 'CPU')   & ('Q1', 'LatencyMs')   & ('Q1', 'LogicalReads')   & ('Q2', 'CPU')   & ('Q2', 'LatencyMs')   & ('Q2', 'LogicalReads')   \\\\\n",
      "\\hline\n",
      " ARIMA         & 17.54 ± 4.45    & 40.06 ± 12.68         & 26.09 ± 4.16             & 17.34 ± 4.52    & 39.27 ± 12.33         & 26.11 ± 4.31             \\\\\n",
      " LSTM          & 45.55 ± 9.76    & 200.44 ± 19.22        & 158.63 ± 9.54            & 49.88 ± 10.58   & 208.28 ± 15.72        & 166.27 ± 7.47            \\\\\n",
      " Prophet       & 29.49 ± 11.34   & 59.70 ± 16.17         & 38.50 ± 13.17            & 28.25 ± 9.86    & 57.11 ± 14.71         & 39.82 ± 13.88            \\\\\n",
      " Random Forest & 8.97 ± 3.72     & 21.46 ± 10.51         & 14.92 ± 3.98             & 8.13 ± 2.59     & 20.97 ± 10.18         & 13.31 ± 3.21             \\\\\n",
      " XGBoost       & 8.97 ± 3.72     & 21.46 ± 10.51         & 14.92 ± 3.98             & 8.13 ± 2.59     & 20.97 ± 10.18         & 13.31 ± 3.21             \\\\\n",
      "\\hline\n",
      "\\end{tabular}\n"
     ]
    }
   ],
   "source": [
    "from tabulate import tabulate\n",
    "print(tabulate(tbl1, headers='keys', tablefmt='latex'))"
   ]
  },
  {
   "cell_type": "code",
   "execution_count": null,
   "id": "37697627-8600-4a94-ab09-c457b45a5ef2",
   "metadata": {},
   "outputs": [],
   "source": []
  }
 ],
 "metadata": {
  "kernelspec": {
   "display_name": "Python 3 (ipykernel)",
   "language": "python",
   "name": "python3"
  },
  "language_info": {
   "codemirror_mode": {
    "name": "ipython",
    "version": 3
   },
   "file_extension": ".py",
   "mimetype": "text/x-python",
   "name": "python",
   "nbconvert_exporter": "python",
   "pygments_lexer": "ipython3",
   "version": "3.12.3"
  }
 },
 "nbformat": 4,
 "nbformat_minor": 5
}
