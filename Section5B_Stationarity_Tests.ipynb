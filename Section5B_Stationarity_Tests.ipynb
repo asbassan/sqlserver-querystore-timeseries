{
 "cells": [
  {
   "cell_type": "markdown",
   "id": "e8ca9b91",
   "metadata": {},
   "source": [
    "# Section V.B. Stationarity and Autocorrelation Analysis\n",
    "\n",
    "This notebook performs stationarity and autocorrelation analysis for the metrics in `SimulatedQueryMetrics.csv` as described in Section V.B of the paper."
   ]
  },
  {
   "cell_type": "markdown",
   "id": "99158d5c",
   "metadata": {},
   "source": [
    "## 1. Imports and Data Loading"
   ]
  },
  {
   "cell_type": "code",
   "execution_count": 2,
   "id": "9ee8d96b",
   "metadata": {},
   "outputs": [
    {
     "data": {
      "text/html": [
       "<div>\n",
       "<style scoped>\n",
       "    .dataframe tbody tr th:only-of-type {\n",
       "        vertical-align: middle;\n",
       "    }\n",
       "\n",
       "    .dataframe tbody tr th {\n",
       "        vertical-align: top;\n",
       "    }\n",
       "\n",
       "    .dataframe thead th {\n",
       "        text-align: right;\n",
       "    }\n",
       "</style>\n",
       "<table border=\"1\" class=\"dataframe\">\n",
       "  <thead>\n",
       "    <tr style=\"text-align: right;\">\n",
       "      <th></th>\n",
       "      <th>SimDay</th>\n",
       "      <th>SimHour</th>\n",
       "      <th>MetricDate</th>\n",
       "      <th>QueryName</th>\n",
       "      <th>QueryVariant</th>\n",
       "      <th>CPU</th>\n",
       "      <th>LatencyMs</th>\n",
       "      <th>LogicalReads</th>\n",
       "      <th>PlanRegression</th>\n",
       "    </tr>\n",
       "  </thead>\n",
       "  <tbody>\n",
       "    <tr>\n",
       "      <th>0</th>\n",
       "      <td>1</td>\n",
       "      <td>0</td>\n",
       "      <td>2025-07-04</td>\n",
       "      <td>Q1</td>\n",
       "      <td>1</td>\n",
       "      <td>53.432663</td>\n",
       "      <td>186.494947</td>\n",
       "      <td>NaN</td>\n",
       "      <td>False</td>\n",
       "    </tr>\n",
       "    <tr>\n",
       "      <th>1</th>\n",
       "      <td>1</td>\n",
       "      <td>0</td>\n",
       "      <td>2025-07-04</td>\n",
       "      <td>Q1</td>\n",
       "      <td>2</td>\n",
       "      <td>57.975274</td>\n",
       "      <td>193.763125</td>\n",
       "      <td>157.573013</td>\n",
       "      <td>True</td>\n",
       "    </tr>\n",
       "    <tr>\n",
       "      <th>2</th>\n",
       "      <td>1</td>\n",
       "      <td>0</td>\n",
       "      <td>2025-07-04</td>\n",
       "      <td>Q1</td>\n",
       "      <td>3</td>\n",
       "      <td>55.829855</td>\n",
       "      <td>190.330454</td>\n",
       "      <td>161.998510</td>\n",
       "      <td>False</td>\n",
       "    </tr>\n",
       "    <tr>\n",
       "      <th>3</th>\n",
       "      <td>1</td>\n",
       "      <td>0</td>\n",
       "      <td>2025-07-04</td>\n",
       "      <td>Q1</td>\n",
       "      <td>4</td>\n",
       "      <td>52.646475</td>\n",
       "      <td>185.237045</td>\n",
       "      <td>165.178454</td>\n",
       "      <td>True</td>\n",
       "    </tr>\n",
       "    <tr>\n",
       "      <th>4</th>\n",
       "      <td>1</td>\n",
       "      <td>0</td>\n",
       "      <td>2025-07-04</td>\n",
       "      <td>Q1</td>\n",
       "      <td>5</td>\n",
       "      <td>55.029501</td>\n",
       "      <td>189.049886</td>\n",
       "      <td>175.038085</td>\n",
       "      <td>False</td>\n",
       "    </tr>\n",
       "  </tbody>\n",
       "</table>\n",
       "</div>"
      ],
      "text/plain": [
       "   SimDay  SimHour MetricDate QueryName  QueryVariant        CPU   LatencyMs  \\\n",
       "0       1        0 2025-07-04        Q1             1  53.432663  186.494947   \n",
       "1       1        0 2025-07-04        Q1             2  57.975274  193.763125   \n",
       "2       1        0 2025-07-04        Q1             3  55.829855  190.330454   \n",
       "3       1        0 2025-07-04        Q1             4  52.646475  185.237045   \n",
       "4       1        0 2025-07-04        Q1             5  55.029501  189.049886   \n",
       "\n",
       "   LogicalReads  PlanRegression  \n",
       "0           NaN           False  \n",
       "1    157.573013            True  \n",
       "2    161.998510           False  \n",
       "3    165.178454            True  \n",
       "4    175.038085           False  "
      ]
     },
     "execution_count": 2,
     "metadata": {},
     "output_type": "execute_result"
    }
   ],
   "source": [
    "import pandas as pd\n",
    "import numpy as np\n",
    "import matplotlib.pyplot as plt\n",
    "import seaborn as sns\n",
    "from statsmodels.tsa.stattools import adfuller, acf, pacf\n",
    "\n",
    "# For pretty plots\n",
    "sns.set(style=\"whitegrid\")\n",
    "\n",
    "# Load data\n",
    "df = pd.read_csv('SimulatedQueryMetrics.csv', parse_dates=['MetricDate'])\n",
    "df.head()"
   ]
  },
  {
   "cell_type": "markdown",
   "id": "73d81ab4",
   "metadata": {},
   "source": [
    "## 2. Select Representative Query Variant\n",
    "We select a representative QueryName and QueryVariant for illustration. You can change these as needed."
   ]
  },
  {
   "cell_type": "code",
   "execution_count": 4,
   "id": "bc327338",
   "metadata": {},
   "outputs": [
    {
     "data": {
      "text/html": [
       "<div>\n",
       "<style scoped>\n",
       "    .dataframe tbody tr th:only-of-type {\n",
       "        vertical-align: middle;\n",
       "    }\n",
       "\n",
       "    .dataframe tbody tr th {\n",
       "        vertical-align: top;\n",
       "    }\n",
       "\n",
       "    .dataframe thead th {\n",
       "        text-align: right;\n",
       "    }\n",
       "</style>\n",
       "<table border=\"1\" class=\"dataframe\">\n",
       "  <thead>\n",
       "    <tr style=\"text-align: right;\">\n",
       "      <th></th>\n",
       "      <th>CPU</th>\n",
       "      <th>LatencyMs</th>\n",
       "      <th>LogicalReads</th>\n",
       "    </tr>\n",
       "    <tr>\n",
       "      <th>MetricDate</th>\n",
       "      <th></th>\n",
       "      <th></th>\n",
       "      <th></th>\n",
       "    </tr>\n",
       "  </thead>\n",
       "  <tbody>\n",
       "    <tr>\n",
       "      <th>2025-07-04 00:00:00</th>\n",
       "      <td>53.432663</td>\n",
       "      <td>186.494947</td>\n",
       "      <td>NaN</td>\n",
       "    </tr>\n",
       "    <tr>\n",
       "      <th>2025-07-04 01:00:00</th>\n",
       "      <td>54.313626</td>\n",
       "      <td>187.904511</td>\n",
       "      <td>146.179062</td>\n",
       "    </tr>\n",
       "    <tr>\n",
       "      <th>2025-07-04 02:00:00</th>\n",
       "      <td>54.658454</td>\n",
       "      <td>188.456266</td>\n",
       "      <td>146.592885</td>\n",
       "    </tr>\n",
       "    <tr>\n",
       "      <th>2025-07-04 03:00:00</th>\n",
       "      <td>54.441959</td>\n",
       "      <td>188.109899</td>\n",
       "      <td>146.333115</td>\n",
       "    </tr>\n",
       "    <tr>\n",
       "      <th>2025-07-04 04:00:00</th>\n",
       "      <td>53.676115</td>\n",
       "      <td>186.884577</td>\n",
       "      <td>145.414128</td>\n",
       "    </tr>\n",
       "  </tbody>\n",
       "</table>\n",
       "</div>"
      ],
      "text/plain": [
       "                           CPU   LatencyMs  LogicalReads\n",
       "MetricDate                                              \n",
       "2025-07-04 00:00:00  53.432663  186.494947           NaN\n",
       "2025-07-04 01:00:00  54.313626  187.904511    146.179062\n",
       "2025-07-04 02:00:00  54.658454  188.456266    146.592885\n",
       "2025-07-04 03:00:00  54.441959  188.109899    146.333115\n",
       "2025-07-04 04:00:00  53.676115  186.884577    145.414128"
      ]
     },
     "execution_count": 4,
     "metadata": {},
     "output_type": "execute_result"
    }
   ],
   "source": [
    "# Choose representative\n",
    "query = 'Q1'\n",
    "variant = 1\n",
    "df_qv = df[(df['QueryName'] == query) & (df['QueryVariant'] == variant)].copy()\n",
    "\n",
    "# Set index\n",
    "df_qv.set_index('MetricDate', inplace=True)\n",
    "# Sort by time\n",
    "df_qv.sort_index(inplace=True)\n",
    "\n",
    "# Preview\n",
    "df_qv[['CPU', 'LatencyMs', 'LogicalReads']].head()"
   ]
  },
  {
   "cell_type": "markdown",
   "id": "a472b150",
   "metadata": {},
   "source": [
    "## 3. Augmented Dickey-Fuller (ADF) Test for Stationarity"
   ]
  },
  {
   "cell_type": "code",
   "execution_count": 6,
   "id": "992f6c31",
   "metadata": {},
   "outputs": [
    {
     "name": "stdout",
     "output_type": "stream",
     "text": [
      "ADF Test for CPU:\n",
      "  ADF Statistic: -1.5025\n",
      "  p-value: 0.5323\n",
      "  Stationary: No\n",
      "\n",
      "ADF Test for LatencyMs:\n",
      "  ADF Statistic: -2.6263\n",
      "  p-value: 0.0877\n",
      "  Stationary: No\n",
      "\n",
      "ADF Test for LogicalReads:\n",
      "  ADF Statistic: -1.5171\n",
      "  p-value: 0.5250\n",
      "  Stationary: No\n",
      "\n"
     ]
    },
    {
     "data": {
      "text/html": [
       "<div>\n",
       "<style scoped>\n",
       "    .dataframe tbody tr th:only-of-type {\n",
       "        vertical-align: middle;\n",
       "    }\n",
       "\n",
       "    .dataframe tbody tr th {\n",
       "        vertical-align: top;\n",
       "    }\n",
       "\n",
       "    .dataframe thead th {\n",
       "        text-align: right;\n",
       "    }\n",
       "</style>\n",
       "<table border=\"1\" class=\"dataframe\">\n",
       "  <thead>\n",
       "    <tr style=\"text-align: right;\">\n",
       "      <th></th>\n",
       "      <th>metric</th>\n",
       "      <th>adf_stat</th>\n",
       "      <th>p</th>\n",
       "      <th>stationary</th>\n",
       "    </tr>\n",
       "  </thead>\n",
       "  <tbody>\n",
       "    <tr>\n",
       "      <th>0</th>\n",
       "      <td>CPU</td>\n",
       "      <td>-1.502461</td>\n",
       "      <td>0.532294</td>\n",
       "      <td>No</td>\n",
       "    </tr>\n",
       "    <tr>\n",
       "      <th>1</th>\n",
       "      <td>LatencyMs</td>\n",
       "      <td>-2.626310</td>\n",
       "      <td>0.087681</td>\n",
       "      <td>No</td>\n",
       "    </tr>\n",
       "    <tr>\n",
       "      <th>2</th>\n",
       "      <td>LogicalReads</td>\n",
       "      <td>-1.517110</td>\n",
       "      <td>0.525031</td>\n",
       "      <td>No</td>\n",
       "    </tr>\n",
       "  </tbody>\n",
       "</table>\n",
       "</div>"
      ],
      "text/plain": [
       "         metric  adf_stat         p stationary\n",
       "0           CPU -1.502461  0.532294         No\n",
       "1     LatencyMs -2.626310  0.087681         No\n",
       "2  LogicalReads -1.517110  0.525031         No"
      ]
     },
     "execution_count": 6,
     "metadata": {},
     "output_type": "execute_result"
    }
   ],
   "source": [
    "def adf_test(series, metric_name):\n",
    "    result = adfuller(series.dropna())\n",
    "    print(f\"ADF Test for {metric_name}:\")\n",
    "    print(f\"  ADF Statistic: {result[0]:.4f}\")\n",
    "    print(f\"  p-value: {result[1]:.4f}\")\n",
    "    print(f\"  Stationary: {'No' if result[1] > 0.05 else 'Yes'}\\n\")\n",
    "    return {'metric': metric_name, 'adf_stat': result[0], 'p': result[1], 'stationary': 'No' if result[1] > 0.05 else 'Yes'}\n",
    "\n",
    "adf_results = []\n",
    "for metric in ['CPU', 'LatencyMs', 'LogicalReads']:\n",
    "    adf_results.append(adf_test(df_qv[metric], metric))\n",
    "\n",
    "# Tabulate\n",
    "adf_df = pd.DataFrame(adf_results)\n",
    "adf_df"
   ]
  },
  {
   "cell_type": "markdown",
   "id": "3f1d0856",
   "metadata": {},
   "source": [
    "## 4. Autocorrelation Function (ACF) Plots"
   ]
  },
  {
   "cell_type": "code",
   "execution_count": 8,
   "id": "99535e62",
   "metadata": {},
   "outputs": [
    {
     "data": {
      "image/png": "[encoded data removed]",
      "text/plain": [
       "<Figure size 1700x400 with 3 Axes>"
      ]
     },
     "metadata": {},
     "output_type": "display_data"
    }
   ],
   "source": [
    "from statsmodels.graphics.tsaplots import plot_acf, plot_pacf\n",
    "\n",
    "fig, axes = plt.subplots(1, 3, figsize=(17, 4))\n",
    "for i, metric in enumerate(['CPU', 'LatencyMs', 'LogicalReads']):\n",
    "    plot_acf(df_qv[metric].dropna(), lags=40, ax=axes[i], title=f'ACF: {metric}')\n",
    "plt.tight_layout()\n",
    "plt.show()"
   ]
  },
  {
   "cell_type": "markdown",
   "id": "cc4acbb5",
   "metadata": {},
   "source": [
    "## 5. (Optional) Partial Autocorrelation Function (PACF) Plots"
   ]
  },
  {
   "cell_type": "code",
   "execution_count": null,
   "id": "a21f07d7",
   "metadata": {},
   "outputs": [],
   "source": [
    "fig, axes = plt.subplots(1, 3, figsize=(17, 4))\n",
    "for i, metric in enumerate(['CPU', 'LatencyMs', 'LogicalReads']):\n",
    "    plot_pacf(df_qv[metric].dropna(), lags=20, ax=axes[i], title=f'PACF: {metric}')\n",
    "plt.tight_layout()\n",
    "plt.show()"
   ]
  },
  {
   "cell_type": "markdown",
   "id": "92a27e07",
   "metadata": {},
   "source": [
    "## 6. Interpretation (Markdown Cell)\n",
    "- All metrics show non-stationarity (ADF p > 0.05).\n",
    "- ACF plots show strong, slowly decaying autocorrelation, indicating persistent temporal dependencies.\n",
    "- PACF (if used) can help select the order for AR terms in ARIMA or related models.\n",
    "- These findings justify the use of models capable of handling trend, seasonality, and long memory."
   ]
  }
 ],
 "metadata": {
  "kernelspec": {
   "display_name": "Python 3 (ipykernel)",
   "language": "python",
   "name": "python3"
  },
  "language_info": {
   "codemirror_mode": {
    "name": "ipython",
    "version": 3
   },
   "file_extension": ".py",
   "mimetype": "text/x-python",
   "name": "python",
   "nbconvert_exporter": "python",
   "pygments_lexer": "ipython3",
   "version": "3.12.3"
  }
 },
 "nbformat": 4,
 "nbformat_minor": 5
}
