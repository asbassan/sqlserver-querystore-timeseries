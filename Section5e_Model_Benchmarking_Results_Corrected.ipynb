{
 "cells": [
  {
   "cell_type": "markdown",
   "id": "57ef0223",
   "metadata": {},
   "source": [
    "# Section 5e: Model Benchmarking Results (Corrected)\n",
    "\n",
    "This notebook benchmarks ARIMA, Prophet, LSTM, Random Forest, and XGBoost models **using the real SimulatedQueryMetrics.csv data** (not synthetic data). It reports training time, inference time, and RMSE for each model.\n",
    "\n",
    "You can change which metric (`CPU`, `LatencyMs`, `LogicalReads`) and which query (`Q1`, `Q2`, etc.) to benchmark at the top."
   ]
  },
  {
   "cell_type": "code",
   "execution_count": null,
   "id": "414acb6c",
   "metadata": {},
   "outputs": [],
   "source": [
    "# !pip install numpy pandas scikit-learn xgboost statsmodels prophet tensorflow"
   ]
  },
  {
   "cell_type": "code",
   "execution_count": 2,
   "id": "79a1e0a8",
   "metadata": {},
   "outputs": [],
   "source": [
    "import numpy as np\n",
    "import pandas as pd\n",
    "import time\n",
    "from sklearn.ensemble import RandomForestRegressor\n",
    "from xgboost import XGBRegressor\n",
    "from statsmodels.tsa.arima.model import ARIMA\n",
    "from prophet import Prophet\n",
    "import tensorflow as tf\n",
    "from tensorflow.keras.models import Sequential\n",
    "from tensorflow.keras.layers import LSTM, Dense\n",
    "from sklearn.metrics import mean_squared_error\n",
    "import warnings\n",
    "warnings.filterwarnings('ignore')"
   ]
  },
  {
   "cell_type": "markdown",
   "id": "3922c048",
   "metadata": {},
   "source": [
    "## Load Data and Select Query/Metric\n",
    "Change `target_col` and `query_name` as needed."
   ]
  },
  {
   "cell_type": "code",
   "execution_count": 3,
   "id": "9bb04263",
   "metadata": {},
   "outputs": [
    {
     "name": "stdout",
     "output_type": "stream",
     "text": [
      "First rows of selected data:\n"
     ]
    },
    {
     "data": {
      "text/html": [
       "<div>\n",
       "<style scoped>\n",
       "    .dataframe tbody tr th:only-of-type {\n",
       "        vertical-align: middle;\n",
       "    }\n",
       "\n",
       "    .dataframe tbody tr th {\n",
       "        vertical-align: top;\n",
       "    }\n",
       "\n",
       "    .dataframe thead th {\n",
       "        text-align: right;\n",
       "    }\n",
       "</style>\n",
       "<table border=\"1\" class=\"dataframe\">\n",
       "  <thead>\n",
       "    <tr style=\"text-align: right;\">\n",
       "      <th></th>\n",
       "      <th>MetricDate</th>\n",
       "      <th>QueryVariant</th>\n",
       "      <th>CPU</th>\n",
       "    </tr>\n",
       "  </thead>\n",
       "  <tbody>\n",
       "    <tr>\n",
       "      <th>0</th>\n",
       "      <td>2025-07-04</td>\n",
       "      <td>1</td>\n",
       "      <td>53.432663</td>\n",
       "    </tr>\n",
       "    <tr>\n",
       "      <th>1</th>\n",
       "      <td>2025-07-04</td>\n",
       "      <td>2</td>\n",
       "      <td>57.975274</td>\n",
       "    </tr>\n",
       "    <tr>\n",
       "      <th>2</th>\n",
       "      <td>2025-07-04</td>\n",
       "      <td>3</td>\n",
       "      <td>55.829855</td>\n",
       "    </tr>\n",
       "    <tr>\n",
       "      <th>3</th>\n",
       "      <td>2025-07-04</td>\n",
       "      <td>4</td>\n",
       "      <td>52.646475</td>\n",
       "    </tr>\n",
       "    <tr>\n",
       "      <th>4</th>\n",
       "      <td>2025-07-04</td>\n",
       "      <td>5</td>\n",
       "      <td>55.029501</td>\n",
       "    </tr>\n",
       "  </tbody>\n",
       "</table>\n",
       "</div>"
      ],
      "text/plain": [
       "  MetricDate  QueryVariant        CPU\n",
       "0 2025-07-04             1  53.432663\n",
       "1 2025-07-04             2  57.975274\n",
       "2 2025-07-04             3  55.829855\n",
       "3 2025-07-04             4  52.646475\n",
       "4 2025-07-04             5  55.029501"
      ]
     },
     "metadata": {},
     "output_type": "display_data"
    }
   ],
   "source": [
    "csv_file = 'SimulatedQueryMetrics.csv'  # Change path if needed\n",
    "target_col = 'CPU'                      # Change to 'LatencyMs' or 'LogicalReads' as needed\n",
    "query_name = 'Q1'                       # Change to 'Q2', etc. as needed\n",
    "\n",
    "df = pd.read_csv(csv_file)\n",
    "df['MetricDate'] = pd.to_datetime(df['MetricDate'])\n",
    "df = df.sort_values(['QueryName', 'MetricDate', 'QueryVariant']).reset_index(drop=True)\n",
    "dfq = df[df['QueryName'] == query_name].copy().sort_values('MetricDate').reset_index(drop=True)\n",
    "print('First rows of selected data:')\n",
    "display(dfq[['MetricDate', 'QueryVariant', target_col]].head())"
   ]
  },
  {
   "cell_type": "markdown",
   "id": "c79b6b7d",
   "metadata": {},
   "source": [
    "## Prepare Data for Modeling\n",
    "- Uses `MetricDate` as the time column, `target_col` as value.\n",
    "- Creates lag features for tree/LSTM models."
   ]
  },
  {
   "cell_type": "code",
   "execution_count": 6,
   "id": "0e378f15",
   "metadata": {},
   "outputs": [],
   "source": [
    "def create_lag_features(df, lags=7, val_col='y'):\n",
    "    df = df.copy()\n",
    "    for lag in range(1, lags+1):\n",
    "        df[f'lag_{lag}'] = df[val_col].shift(lag)\n",
    "    df = df.dropna().reset_index(drop=True)\n",
    "    return df\n",
    "\n",
    "lags = 7\n",
    "dfq = dfq[['MetricDate', target_col, 'QueryVariant']].rename(columns={'MetricDate':'ds', target_col:'y'})\n",
    "dfq_lagged = create_lag_features(dfq, lags=lags, val_col='y')\n",
    "\n",
    "# Train/test split (last 20% for testing)\n",
    "split = int(len(dfq_lagged) * 0.8)\n",
    "train_df = dfq_lagged.iloc[:split]\n",
    "test_df = dfq_lagged.iloc[split:]\n",
    "\n",
    "X_train = train_df[[f'lag_{i}' for i in range(1, lags+1)]]\n",
    "y_train = train_df['y']\n",
    "X_test = test_df[[f'lag_{i}' for i in range(1, lags+1)]]\n",
    "y_test = test_df['y']"
   ]
  },
  {
   "cell_type": "markdown",
   "id": "d4b9ebda",
   "metadata": {},
   "source": [
    "## Helper Functions for Timing"
   ]
  },
  {
   "cell_type": "code",
   "execution_count": 8,
   "id": "9b050f8e",
   "metadata": {},
   "outputs": [],
   "source": [
    "def time_fit(model, X, y):\n",
    "    start = time.time()\n",
    "    model_fit = model.fit(X, y)\n",
    "    end = time.time()\n",
    "    train_time = end - start\n",
    "    return model_fit, train_time\n",
    "\n",
    "def time_predict(model, X):\n",
    "    start = time.time()\n",
    "    y_pred = model.predict(X)\n",
    "    end = time.time()\n",
    "    pred_time = end - start\n",
    "    return y_pred, pred_time"
   ]
  },
  {
   "cell_type": "markdown",
   "id": "ad62c509",
   "metadata": {},
   "source": [
    "## Random Forest"
   ]
  },
  {
   "cell_type": "code",
   "execution_count": 10,
   "id": "2245e1ef",
   "metadata": {},
   "outputs": [
    {
     "name": "stdout",
     "output_type": "stream",
     "text": [
      "Random Forest - Train time: 1.4857s, Predict time: 0.0142s, RMSE: 8.3849\n"
     ]
    }
   ],
   "source": [
    "rf = RandomForestRegressor(n_estimators=100, random_state=42)\n",
    "rf_fit, rf_train_time = time_fit(rf, X_train, y_train)\n",
    "rf_pred, rf_pred_time = time_predict(rf_fit, X_test)\n",
    "rf_rmse = mean_squared_error(y_test, rf_pred, squared=False)\n",
    "print(f\"Random Forest - Train time: {rf_train_time:.4f}s, Predict time: {rf_pred_time:.4f}s, RMSE: {rf_rmse:.4f}\")"
   ]
  },
  {
   "cell_type": "markdown",
   "id": "011c33ed",
   "metadata": {},
   "source": [
    "## XGBoost"
   ]
  },
  {
   "cell_type": "code",
   "execution_count": 12,
   "id": "8c616ae5",
   "metadata": {},
   "outputs": [
    {
     "name": "stdout",
     "output_type": "stream",
     "text": [
      "XGBoost - Train time: 0.7275s, Predict time: 0.0040s, RMSE: 9.4040\n"
     ]
    }
   ],
   "source": [
    "xgb = XGBRegressor(n_estimators=100, random_state=42, verbosity=0)\n",
    "xgb_fit, xgb_train_time = time_fit(xgb, X_train, y_train)\n",
    "xgb_pred, xgb_pred_time = time_predict(xgb_fit, X_test)\n",
    "xgb_rmse = mean_squared_error(y_test, xgb_pred, squared=False)\n",
    "print(f\"XGBoost - Train time: {xgb_train_time:.4f}s, Predict time: {xgb_pred_time:.4f}s, RMSE: {xgb_rmse:.4f}\")"
   ]
  },
  {
   "cell_type": "markdown",
   "id": "8d2d98f1",
   "metadata": {},
   "source": [
    "## ARIMA"
   ]
  },
  {
   "cell_type": "code",
   "execution_count": 14,
   "id": "b24a09ce",
   "metadata": {},
   "outputs": [
    {
     "name": "stdout",
     "output_type": "stream",
     "text": [
      "ARIMA - Train time: 1.4088s, Predict time: 0.0296s, RMSE: 12.0738\n"
     ]
    }
   ],
   "source": [
    "arima_train = train_df['y']\n",
    "arima_test = test_df['y']\n",
    "start = time.time()\n",
    "arima_model = ARIMA(arima_train, order=(lags, 0, 0))\n",
    "arima_fit = arima_model.fit()\n",
    "arima_train_time = time.time() - start\n",
    "\n",
    "start = time.time()\n",
    "arima_pred = arima_fit.forecast(steps=len(arima_test))\n",
    "arima_pred_time = time.time() - start\n",
    "arima_rmse = mean_squared_error(arima_test, arima_pred, squared=False)\n",
    "print(f\"ARIMA - Train time: {arima_train_time:.4f}s, Predict time: {arima_pred_time:.4f}s, RMSE: {arima_rmse:.4f}\")"
   ]
  },
  {
   "cell_type": "markdown",
   "id": "333fd43a",
   "metadata": {},
   "source": [
    "## Prophet"
   ]
  },
  {
   "cell_type": "code",
   "execution_count": 16,
   "id": "5139ffc9",
   "metadata": {},
   "outputs": [
    {
     "name": "stderr",
     "output_type": "stream",
     "text": [
      "04:38:00 - cmdstanpy - INFO - Chain [1] start processing\n",
      "04:38:00 - cmdstanpy - INFO - Chain [1] done processing\n"
     ]
    },
    {
     "name": "stdout",
     "output_type": "stream",
     "text": [
      "Prophet - Train time: 0.6134s, Predict time: 0.1859s, RMSE: 13.2982\n"
     ]
    }
   ],
   "source": [
    "prophet_train = train_df[['ds', 'y']]\n",
    "prophet_test = test_df[['ds', 'y']]\n",
    "start = time.time()\n",
    "m = Prophet()\n",
    "m.fit(prophet_train)\n",
    "prophet_train_time = time.time() - start\n",
    "\n",
    "future = prophet_test[['ds']]\n",
    "start = time.time()\n",
    "forecast = m.predict(future)\n",
    "prophet_pred_time = time.time() - start\n",
    "prophet_rmse = mean_squared_error(prophet_test['y'], forecast['yhat'], squared=False)\n",
    "print(f\"Prophet - Train time: {prophet_train_time:.4f}s, Predict time: {prophet_pred_time:.4f}s, RMSE: {prophet_rmse:.4f}\")"
   ]
  },
  {
   "cell_type": "markdown",
   "id": "cfe1b954",
   "metadata": {},
   "source": [
    "## LSTM (Keras)"
   ]
  },
  {
   "cell_type": "code",
   "execution_count": 18,
   "id": "beb50f84",
   "metadata": {},
   "outputs": [
    {
     "name": "stdout",
     "output_type": "stream",
     "text": [
      "\u001b[1m9/9\u001b[0m \u001b[32m━━━━━━━━━━━━━━━━━━━━\u001b[0m\u001b[37m\u001b[0m \u001b[1m1s\u001b[0m 51ms/step\n",
      "LSTM - Train time: 6.5116s, Predict time: 0.8948s, RMSE: 40.5129\n"
     ]
    }
   ],
   "source": [
    "X_train_lstm = X_train.values.reshape((-1, lags, 1))\n",
    "X_test_lstm = X_test.values.reshape((-1, lags, 1))\n",
    "\n",
    "model = Sequential()\n",
    "model.add(LSTM(32, input_shape=(lags, 1)))\n",
    "model.add(Dense(1))\n",
    "model.compile(optimizer='adam', loss='mse')\n",
    "\n",
    "start = time.time()\n",
    "model.fit(X_train_lstm, y_train, epochs=10, batch_size=32, verbose=0)\n",
    "lstm_train_time = time.time() - start\n",
    "\n",
    "start = time.time()\n",
    "lstm_pred = model.predict(X_test_lstm).flatten()\n",
    "lstm_pred_time = time.time() - start\n",
    "lstm_rmse = mean_squared_error(y_test, lstm_pred, squared=False)\n",
    "print(f\"LSTM - Train time: {lstm_train_time:.4f}s, Predict time: {lstm_pred_time:.4f}s, RMSE: {lstm_rmse:.4f}\")"
   ]
  },
  {
   "cell_type": "markdown",
   "id": "9e5aa2eb",
   "metadata": {},
   "source": [
    "## Summary Table"
   ]
  },
  {
   "cell_type": "code",
   "execution_count": 20,
   "id": "899e28f4",
   "metadata": {},
   "outputs": [
    {
     "data": {
      "text/html": [
       "<div>\n",
       "<style scoped>\n",
       "    .dataframe tbody tr th:only-of-type {\n",
       "        vertical-align: middle;\n",
       "    }\n",
       "\n",
       "    .dataframe tbody tr th {\n",
       "        vertical-align: top;\n",
       "    }\n",
       "\n",
       "    .dataframe thead th {\n",
       "        text-align: right;\n",
       "    }\n",
       "</style>\n",
       "<table border=\"1\" class=\"dataframe\">\n",
       "  <thead>\n",
       "    <tr style=\"text-align: right;\">\n",
       "      <th></th>\n",
       "      <th>Model</th>\n",
       "      <th>Train Time (s)</th>\n",
       "      <th>Predict Time (s)</th>\n",
       "      <th>RMSE</th>\n",
       "    </tr>\n",
       "  </thead>\n",
       "  <tbody>\n",
       "    <tr>\n",
       "      <th>0</th>\n",
       "      <td>Random Forest</td>\n",
       "      <td>1.485666</td>\n",
       "      <td>0.014242</td>\n",
       "      <td>8.384908</td>\n",
       "    </tr>\n",
       "    <tr>\n",
       "      <th>1</th>\n",
       "      <td>XGBoost</td>\n",
       "      <td>0.727469</td>\n",
       "      <td>0.003986</td>\n",
       "      <td>9.404005</td>\n",
       "    </tr>\n",
       "    <tr>\n",
       "      <th>2</th>\n",
       "      <td>ARIMA</td>\n",
       "      <td>1.408791</td>\n",
       "      <td>0.029567</td>\n",
       "      <td>12.073801</td>\n",
       "    </tr>\n",
       "    <tr>\n",
       "      <th>3</th>\n",
       "      <td>Prophet</td>\n",
       "      <td>0.613447</td>\n",
       "      <td>0.185876</td>\n",
       "      <td>13.298219</td>\n",
       "    </tr>\n",
       "    <tr>\n",
       "      <th>4</th>\n",
       "      <td>LSTM</td>\n",
       "      <td>6.511628</td>\n",
       "      <td>0.894795</td>\n",
       "      <td>40.512858</td>\n",
       "    </tr>\n",
       "  </tbody>\n",
       "</table>\n",
       "</div>"
      ],
      "text/plain": [
       "           Model  Train Time (s)  Predict Time (s)       RMSE\n",
       "0  Random Forest        1.485666          0.014242   8.384908\n",
       "1        XGBoost        0.727469          0.003986   9.404005\n",
       "2          ARIMA        1.408791          0.029567  12.073801\n",
       "3        Prophet        0.613447          0.185876  13.298219\n",
       "4           LSTM        6.511628          0.894795  40.512858"
      ]
     },
     "metadata": {},
     "output_type": "display_data"
    }
   ],
   "source": [
    "results = pd.DataFrame({\n",
    "    'Model': ['Random Forest', 'XGBoost', 'ARIMA', 'Prophet', 'LSTM'],\n",
    "    'Train Time (s)': [rf_train_time, xgb_train_time, arima_train_time, prophet_train_time, lstm_train_time],\n",
    "    'Predict Time (s)': [rf_pred_time, xgb_pred_time, arima_pred_time, prophet_pred_time, lstm_pred_time],\n",
    "    'RMSE': [rf_rmse, xgb_rmse, arima_rmse, prophet_rmse, lstm_rmse]\n",
    "})\n",
    "display(results)"
   ]
  },
  {
   "cell_type": "markdown",
   "id": "5a8aeaff",
   "metadata": {},
   "source": [
    "## Notes\n",
    "- You can change `target_col` or `query_name` at the top to benchmark other metrics or queries.\n",
    "- Results are now based on real, production-like data and reflect true model training time, inference time, and accuracy."
   ]
  }
 ],
 "metadata": {
  "kernelspec": {
   "display_name": "Python 3 (ipykernel)",
   "language": "python",
   "name": "python3"
  },
  "language_info": {
   "codemirror_mode": {
    "name": "ipython",
    "version": 3
   },
   "file_extension": ".py",
   "mimetype": "text/x-python",
   "name": "python",
   "nbconvert_exporter": "python",
   "pygments_lexer": "ipython3",
   "version": "3.12.3"
  }
 },
 "nbformat": 4,
 "nbformat_minor": 5
}
